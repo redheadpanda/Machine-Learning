{
  "nbformat": 4,
  "nbformat_minor": 0,
  "metadata": {
    "colab": {
      "provenance": [],
      "gpuType": "T4",
      "authorship_tag": "ABX9TyM/P5GJblZcID757MumnnIn",
      "include_colab_link": true
    },
    "kernelspec": {
      "name": "python3",
      "display_name": "Python 3"
    },
    "language_info": {
      "name": "python"
    },
    "accelerator": "GPU"
  },
  "cells": [
    {
      "cell_type": "markdown",
      "metadata": {
        "id": "view-in-github",
        "colab_type": "text"
      },
      "source": [
        "<a href=\"https://colab.research.google.com/github/redheadpanda/Machine-Learning/blob/main/Python_Revision.ipynb\" target=\"_parent\"><img src=\"https://colab.research.google.com/assets/colab-badge.svg\" alt=\"Open In Colab\"/></a>"
      ]
    },
    {
      "cell_type": "code",
      "execution_count": null,
      "metadata": {
        "colab": {
          "base_uri": "https://localhost:8080/"
        },
        "id": "c0Vl_rbWBlkm",
        "outputId": "16b10452-8fea-40a9-8284-86fc55c82738"
      },
      "outputs": [
        {
          "output_type": "stream",
          "name": "stdout",
          "text": [
            "Aayushi\n",
            "AayushiPriya\n",
            "8\n",
            "11\n"
          ]
        }
      ],
      "source": [
        "print('Aayushi')\n",
        "print('Aayushi' + 'Priya')\n",
        "print(8)\n",
        "print(8+3)\n"
      ]
    },
    {
      "cell_type": "markdown",
      "source": [
        "**Input functions**"
      ],
      "metadata": {
        "id": "pDvRuh-rCuuL"
      }
    },
    {
      "cell_type": "code",
      "source": [
        "number_1 = int(input( ))\n",
        "number_2 = int(input( ))\n",
        "\n",
        "#number_1 = int(input(\"Enter the first number : \"))\n",
        "#number_2 = int(input(\"Enter the second number : \"))\n",
        "\n",
        "sum = number_1 + number_2\n",
        "print(sum)"
      ],
      "metadata": {
        "colab": {
          "base_uri": "https://localhost:8080/"
        },
        "id": "T-UUdQvmCrA6",
        "outputId": "3117abd4-966d-47f4-b867-c35d6a7b707b"
      },
      "execution_count": null,
      "outputs": [
        {
          "output_type": "stream",
          "name": "stdout",
          "text": [
            "7\n",
            "8\n",
            "15\n"
          ]
        }
      ]
    },
    {
      "cell_type": "markdown",
      "source": [
        "Basic Data Types:\n",
        "1. Integer\n",
        "2. Floating Point\n",
        "3. complex\n",
        "4. Boolean\n",
        "5. String"
      ],
      "metadata": {
        "id": "FBpiYSXCCWyL"
      }
    },
    {
      "cell_type": "code",
      "source": [
        "print(type(8))\n",
        "print(type(5.3))\n",
        "print(type(\"english\"))"
      ],
      "metadata": {
        "colab": {
          "base_uri": "https://localhost:8080/"
        },
        "id": "PNx_WhHZB9Gt",
        "outputId": "ef1e78e9-99ac-4278-e1ea-06f0eb49f3ff"
      },
      "execution_count": null,
      "outputs": [
        {
          "output_type": "stream",
          "name": "stdout",
          "text": [
            "<class 'int'>\n",
            "<class 'float'>\n",
            "<class 'str'>\n"
          ]
        }
      ]
    },
    {
      "cell_type": "markdown",
      "source": [
        "**To convert data type**"
      ],
      "metadata": {
        "id": "of1thrS3DxYD"
      }
    },
    {
      "cell_type": "code",
      "source": [
        "x = 10 # this is int\n",
        "y = float(x)\n",
        "print(y)\n",
        "type(y)"
      ],
      "metadata": {
        "colab": {
          "base_uri": "https://localhost:8080/"
        },
        "id": "NpilmdlqDSuq",
        "outputId": "eb2a4136-d9f5-4082-f57f-66822e40ac38"
      },
      "execution_count": null,
      "outputs": [
        {
          "output_type": "stream",
          "name": "stdout",
          "text": [
            "10.0\n"
          ]
        },
        {
          "output_type": "execute_result",
          "data": {
            "text/plain": [
              "float"
            ]
          },
          "metadata": {},
          "execution_count": 9
        }
      ]
    },
    {
      "cell_type": "markdown",
      "source": [
        "**Types of Objects in Python:**\n",
        "\n",
        "1. Immutable Objects\n",
        "2. Mutable Objects\n",
        "\n",
        "Immutable Objects:\n",
        "\n",
        "1. int\n",
        "2. float\n",
        "3. string\n",
        "4. bool\n",
        "5. tuple\n",
        "\n",
        "Mutable Objects:\n",
        "\n",
        "1. List\n",
        "2. Set\n",
        "3. Dictionary"
      ],
      "metadata": {
        "id": "MjphTp7xD6dp"
      }
    },
    {
      "cell_type": "code",
      "source": [
        "my_list = [1,2,3,4,5]\n",
        "print(my_list)\n",
        "type(my_list)\n",
        "\n",
        "my_list2 = [2, 1.8, 'English']\n",
        "print(my_list2)\n",
        "\n",
        "my_list2.append(5)\n",
        "print(my_list2)\n",
        "\n"
      ],
      "metadata": {
        "colab": {
          "base_uri": "https://localhost:8080/"
        },
        "id": "4NzzAr30EKmC",
        "outputId": "e6f49a20-00b8-465c-e927-70deac5a1d40"
      },
      "execution_count": null,
      "outputs": [
        {
          "output_type": "stream",
          "name": "stdout",
          "text": [
            "[1, 2, 3, 4, 5]\n",
            "[2, 1.8, 'English']\n",
            "[2, 1.8, 'English', 5]\n"
          ]
        }
      ]
    },
    {
      "cell_type": "markdown",
      "source": [
        "1. Lists are mutable ( append)\n",
        "2. List allows duplicate values\n",
        "3. to delete an item in list -> del list_2[index]\n",
        "4. to joint two list - list_1 + list_2\n",
        "5. to get length of list - len(list_1)"
      ],
      "metadata": {
        "id": "PT5F9gp5EtrA"
      }
    },
    {
      "cell_type": "code",
      "source": [
        "my_tuple = (2,3,4,5)\n",
        "print(my_tuple)\n",
        "type(my_tuple)\n",
        "\n",
        "\n",
        "my_list2 = [2, 1.8, 'English']\n",
        "my_tuple2 = tuple(my_list2)\n",
        "print(my_tuple2)"
      ],
      "metadata": {
        "colab": {
          "base_uri": "https://localhost:8080/"
        },
        "id": "XRTWdXvlFDdq",
        "outputId": "b0df619c-dc24-4f19-aa63-28c9da4fe9fc"
      },
      "execution_count": null,
      "outputs": [
        {
          "output_type": "stream",
          "name": "stdout",
          "text": [
            "(2, 3, 4, 5)\n",
            "(2, 1.8, 'English')\n"
          ]
        }
      ]
    },
    {
      "cell_type": "markdown",
      "source": [
        "1. Tuples are lists but immutable ones\n",
        "2. List can be changed into tuple\n",
        "3. no append in tuple"
      ],
      "metadata": {
        "id": "_LqGb25sFYAe"
      }
    },
    {
      "cell_type": "code",
      "source": [
        "my_set = {1,2,3,4,5}\n",
        "print(my_set)\n",
        "type(my_set)\n",
        "\n",
        "list_5 = [4,5,6,7,8]\n",
        "x = set(list_5)\n",
        "print(x)\n"
      ],
      "metadata": {
        "colab": {
          "base_uri": "https://localhost:8080/"
        },
        "id": "rRNhhCOBF7zv",
        "outputId": "42765cad-e3d3-4d9d-f2e9-734100005f98"
      },
      "execution_count": null,
      "outputs": [
        {
          "output_type": "stream",
          "name": "stdout",
          "text": [
            "{1, 2, 3, 4, 5}\n",
            "{4, 5, 6, 7, 8}\n"
          ]
        }
      ]
    },
    {
      "cell_type": "code",
      "source": [
        "my_dictionary = {'name':'David','age':30,'country':'India'}\n",
        "print(my_dictionary)\n",
        "type(my_dictionary)\n",
        "\n",
        "print(my_dictionary['name'])\n",
        "print(my_dictionary['age'])\n",
        "print(my_dictionary['country'])"
      ],
      "metadata": {
        "colab": {
          "base_uri": "https://localhost:8080/"
        },
        "id": "5ovDp7CVGEZp",
        "outputId": "96e60995-44c9-4676-e377-7ae1b35f8f9c"
      },
      "execution_count": null,
      "outputs": [
        {
          "output_type": "stream",
          "name": "stdout",
          "text": [
            "{'name': 'David', 'age': 30, 'country': 'India'}\n",
            "David\n",
            "30\n",
            "India\n"
          ]
        }
      ]
    },
    {
      "cell_type": "markdown",
      "source": [
        "**Dictionary and set don't allow duplicate values**"
      ],
      "metadata": {
        "id": "whDoGe1AGXUh"
      }
    },
    {
      "cell_type": "markdown",
      "source": [
        "**operators in Python:**\n",
        "\n",
        "1. Arithmetic Operators - - - - - - - -(+, -, *, /, **, %)\n",
        "2. Assignment Operators - - - - - - - -(+=, -=, *=, /=, **=, %=)\n",
        "3. Comparison Operators - - - - - - - -(==, !=, >, <, <=, >=)\n",
        "4. Logical Operators - - - - - - - -(and, or, not)\n",
        "5. Identity Operators - - - - - - - -(is, is not)\n",
        "6. Membership Operators - - - - - - - -(in, not in)"
      ],
      "metadata": {
        "id": "yuLSYA2kGjA3"
      }
    },
    {
      "cell_type": "code",
      "source": [
        "x = 5\n",
        "y = 5\n",
        "\n",
        "print(x is y)\n",
        "print(x is not y)\n",
        "\n",
        "a = 5\n",
        "b =10\n",
        "\n",
        "c = [1,2,3,4,5]\n",
        "print( a in c)\n",
        "print( b in c)\n",
        "print( a not in c)\n",
        "print( b not in c)"
      ],
      "metadata": {
        "colab": {
          "base_uri": "https://localhost:8080/"
        },
        "id": "MuoAnD_tGbsA",
        "outputId": "6e76e792-fe61-41dc-9852-e6e5dcdcd440"
      },
      "execution_count": null,
      "outputs": [
        {
          "output_type": "stream",
          "name": "stdout",
          "text": [
            "True\n",
            "False\n",
            "True\n",
            "False\n",
            "False\n",
            "True\n"
          ]
        }
      ]
    },
    {
      "cell_type": "markdown",
      "source": [
        "**If-else statement**"
      ],
      "metadata": {
        "id": "yLphSgr6QDa5"
      }
    },
    {
      "cell_type": "code",
      "source": [
        "a = 15\n",
        "b = 25\n",
        "c = 30\n",
        "\n",
        "if (b>c):\n",
        "  print('a is the greatest number')\n",
        "elif (a>c):\n",
        "  print('b is the greatest number')\n",
        "else:\n",
        "  print('c is the greatest number')"
      ],
      "metadata": {
        "colab": {
          "base_uri": "https://localhost:8080/"
        },
        "id": "ZCIpEICbQKn8",
        "outputId": "4bb31dcf-e2d5-4555-9a70-faf0a6caa774"
      },
      "execution_count": null,
      "outputs": [
        {
          "output_type": "stream",
          "name": "stdout",
          "text": [
            "c is the greatest number\n"
          ]
        }
      ]
    },
    {
      "cell_type": "markdown",
      "source": [
        "**For Loop**"
      ],
      "metadata": {
        "id": "3f-oVejXQ4N9"
      }
    },
    {
      "cell_type": "code",
      "source": [
        "for i in range(7):    # 0,1,2,3,4,5,6\n",
        "  laptop_price = int(input('Enter the price of the laptop : '))"
      ],
      "metadata": {
        "colab": {
          "base_uri": "https://localhost:8080/"
        },
        "id": "5lLGMXJrQ6Hu",
        "outputId": "1738316c-2f45-4e00-8e30-b2fff9e8ef9a"
      },
      "execution_count": null,
      "outputs": [
        {
          "name": "stdout",
          "output_type": "stream",
          "text": [
            "Enter the price of the laptop : 6\n",
            "Enter the price of the laptop : 2\n",
            "Enter the price of the laptop : 34\n",
            "Enter the price of the laptop : 5\n",
            "Enter the price of the laptop : 1\n",
            "Enter the price of the laptop : 2\n",
            "Enter the price of the laptop : 3\n"
          ]
        }
      ]
    },
    {
      "cell_type": "markdown",
      "source": [
        "**Functions**"
      ],
      "metadata": {
        "id": "Gzmw5GToTP0C"
      }
    },
    {
      "cell_type": "code",
      "source": [
        "def factorial_value(num):\n",
        "  factorial = 1\n",
        "\n",
        "  if num == 0:\n",
        "    return factorial\n",
        "  else:\n",
        "    for i in range(1,num+1):\n",
        "      factorial = factorial*i\n",
        "    return factorial"
      ],
      "metadata": {
        "id": "63SWN2AsTJeT"
      },
      "execution_count": null,
      "outputs": []
    },
    {
      "cell_type": "code",
      "source": [
        "print(factorial_value(5))"
      ],
      "metadata": {
        "colab": {
          "base_uri": "https://localhost:8080/"
        },
        "id": "NmfvC6OTTjg6",
        "outputId": "1da6e633-1550-4728-c235-fedfaf97c704"
      },
      "execution_count": null,
      "outputs": [
        {
          "output_type": "stream",
          "name": "stdout",
          "text": [
            "120\n"
          ]
        }
      ]
    }
  ]
}