{
  "nbformat": 4,
  "nbformat_minor": 0,
  "metadata": {
    "colab": {
      "provenance": []
    },
    "kernelspec": {
      "name": "python3",
      "display_name": "Python 3"
    },
    "language_info": {
      "name": "python"
    }
  },
  "cells": [
    {
      "cell_type": "code",
      "execution_count": 1,
      "metadata": {
        "id": "W3dBU30T7KLY"
      },
      "outputs": [],
      "source": [
        "import numpy as np\n",
        "import matplotlib.pyplot as plt\n",
        "import seaborn as sns"
      ]
    },
    {
      "cell_type": "code",
      "source": [
        "matrix_1 = np.array([[2,3], [6,7]])\n",
        "matrix_1"
      ],
      "metadata": {
        "colab": {
          "base_uri": "https://localhost:8080/"
        },
        "id": "AQ_k4BfG7QTt",
        "outputId": "0d1209ac-333b-4cbe-8185-c2fd785a001a"
      },
      "execution_count": 3,
      "outputs": [
        {
          "output_type": "execute_result",
          "data": {
            "text/plain": [
              "array([[2, 3],\n",
              "       [6, 7]])"
            ]
          },
          "metadata": {},
          "execution_count": 3
        }
      ]
    },
    {
      "cell_type": "code",
      "source": [
        "matrix_1.shape"
      ],
      "metadata": {
        "colab": {
          "base_uri": "https://localhost:8080/"
        },
        "id": "5s4zwBG9FN4C",
        "outputId": "8997b361-e26c-4653-ed00-0d7ab973a7c5"
      },
      "execution_count": 4,
      "outputs": [
        {
          "output_type": "execute_result",
          "data": {
            "text/plain": [
              "(2, 2)"
            ]
          },
          "metadata": {},
          "execution_count": 4
        }
      ]
    },
    {
      "cell_type": "markdown",
      "source": [
        "Matrix with random values"
      ],
      "metadata": {
        "id": "JsjO0f3QFQdA"
      }
    },
    {
      "cell_type": "code",
      "source": [
        "random_matrix = np.random.rand(3,3)\n",
        "random_matrix"
      ],
      "metadata": {
        "colab": {
          "base_uri": "https://localhost:8080/"
        },
        "id": "oBT1CV6zFSLi",
        "outputId": "48b45e5b-1c50-4fe2-8a9e-953319e3ca0f"
      },
      "execution_count": 5,
      "outputs": [
        {
          "output_type": "execute_result",
          "data": {
            "text/plain": [
              "array([[0.38963096, 0.2473414 , 0.18768359],\n",
              "       [0.07510272, 0.29251568, 0.48105928],\n",
              "       [0.86962218, 0.79393939, 0.22857925]])"
            ]
          },
          "metadata": {},
          "execution_count": 5
        }
      ]
    },
    {
      "cell_type": "code",
      "source": [
        "random_integer_matrix = np.random.randint(100, size=(4,5))\n",
        "print(random_integer_matrix)"
      ],
      "metadata": {
        "colab": {
          "base_uri": "https://localhost:8080/"
        },
        "id": "tnZFUQqQFXvp",
        "outputId": "5b16c1df-0c99-4b3f-80cf-0b5be873cb9f"
      },
      "execution_count": 6,
      "outputs": [
        {
          "output_type": "stream",
          "name": "stdout",
          "text": [
            "[[68 32 43 84 61]\n",
            " [21 16  7 48 66]\n",
            " [61  3 66 29 57]\n",
            " [54 80 41 37 20]]\n"
          ]
        }
      ]
    },
    {
      "cell_type": "markdown",
      "source": [
        "All ones"
      ],
      "metadata": {
        "id": "cZICiOPPFcwj"
      }
    },
    {
      "cell_type": "code",
      "source": [
        "matrix_2 = np.ones((2,3))\n",
        "print(matrix_2)"
      ],
      "metadata": {
        "colab": {
          "base_uri": "https://localhost:8080/"
        },
        "id": "i9hwuBgbFbkp",
        "outputId": "e18b215f-08ca-4d55-b6c6-d6508e7f4dad"
      },
      "execution_count": 7,
      "outputs": [
        {
          "output_type": "stream",
          "name": "stdout",
          "text": [
            "[[1. 1. 1.]\n",
            " [1. 1. 1.]]\n"
          ]
        }
      ]
    },
    {
      "cell_type": "code",
      "source": [
        "matrix_2 = np.ones((2,3), dtype = int)\n",
        "matrix_2"
      ],
      "metadata": {
        "colab": {
          "base_uri": "https://localhost:8080/"
        },
        "id": "FbtgFf5BFko7",
        "outputId": "6f078302-5dc8-4c2f-f4ae-e0a7c3eb1080"
      },
      "execution_count": 8,
      "outputs": [
        {
          "output_type": "execute_result",
          "data": {
            "text/plain": [
              "array([[1, 1, 1],\n",
              "       [1, 1, 1]])"
            ]
          },
          "metadata": {},
          "execution_count": 8
        }
      ]
    },
    {
      "cell_type": "markdown",
      "source": [
        "Null Matrix or zero matrix"
      ],
      "metadata": {
        "id": "aTcsQw4GFsaX"
      }
    },
    {
      "cell_type": "code",
      "source": [
        "null_matrix = np.zeros((4,4))\n",
        "print(null_matrix)"
      ],
      "metadata": {
        "colab": {
          "base_uri": "https://localhost:8080/"
        },
        "id": "iDs2haTDFu7v",
        "outputId": "dfaa2d71-296c-4972-f3b7-81abce489fa0"
      },
      "execution_count": 9,
      "outputs": [
        {
          "output_type": "stream",
          "name": "stdout",
          "text": [
            "[[0. 0. 0. 0.]\n",
            " [0. 0. 0. 0.]\n",
            " [0. 0. 0. 0.]\n",
            " [0. 0. 0. 0.]]\n"
          ]
        }
      ]
    },
    {
      "cell_type": "markdown",
      "source": [
        "Identity matrix"
      ],
      "metadata": {
        "id": "DAzNch1zF067"
      }
    },
    {
      "cell_type": "code",
      "source": [
        "identity_matrix = np.eye(3,3)\n",
        "print(identity_matrix)"
      ],
      "metadata": {
        "colab": {
          "base_uri": "https://localhost:8080/"
        },
        "id": "oGMG8saiFzCZ",
        "outputId": "843c489e-0880-4edb-8859-b829ab5e28fd"
      },
      "execution_count": 11,
      "outputs": [
        {
          "output_type": "stream",
          "name": "stdout",
          "text": [
            "[[1. 0. 0.]\n",
            " [0. 1. 0.]\n",
            " [0. 0. 1.]]\n"
          ]
        }
      ]
    },
    {
      "cell_type": "markdown",
      "source": [
        "Transpose"
      ],
      "metadata": {
        "id": "WB63PznYF5u7"
      }
    },
    {
      "cell_type": "code",
      "source": [
        "a = np.random.randint(100, size=(4,5))\n",
        "print(a)"
      ],
      "metadata": {
        "colab": {
          "base_uri": "https://localhost:8080/"
        },
        "id": "qE6RXHb4F4ei",
        "outputId": "2e735b57-65f4-4472-cb5f-038b5e6afe05"
      },
      "execution_count": 12,
      "outputs": [
        {
          "output_type": "stream",
          "name": "stdout",
          "text": [
            "[[86 51 57 13 34]\n",
            " [90 15 30 58 36]\n",
            " [51 80 18 92 58]\n",
            " [99 29 11  4 64]]\n"
          ]
        }
      ]
    },
    {
      "cell_type": "code",
      "source": [
        "transpose = np.transpose(a)\n",
        "print(transpose)"
      ],
      "metadata": {
        "colab": {
          "base_uri": "https://localhost:8080/"
        },
        "id": "aIiZdb9UF9hR",
        "outputId": "f8d42a0d-005f-4841-f7ae-9968e469ab57"
      },
      "execution_count": 13,
      "outputs": [
        {
          "output_type": "stream",
          "name": "stdout",
          "text": [
            "[[86 90 51 99]\n",
            " [51 15 80 29]\n",
            " [57 30 18 11]\n",
            " [13 58 92  4]\n",
            " [34 36 58 64]]\n"
          ]
        }
      ]
    },
    {
      "cell_type": "markdown",
      "source": [
        "Matrix Addition - A + B\n",
        "\n",
        "Matrix difference = A - B\n",
        "\n",
        "Matrix multiplication = np.multiply (mat_1, mat_2) - mat_1 or mat_2 can be scalar too"
      ],
      "metadata": {
        "id": "Rw6ntepvGG6j"
      }
    },
    {
      "cell_type": "code",
      "source": [
        "A = np.array([[2,3],[4,5]])\n",
        "B = np.array([[6,7],[8,9]])\n",
        "\n",
        "sum = np.add(A, B)\n",
        "difference = A - B\n",
        "product = np.multiply(A,B)\n",
        "scalar_product = np.multiply(A, 2)\n",
        "dot_product = np.dot(A,B)\n",
        "print(sum)\n",
        "print(difference)\n",
        "print(product)\n",
        "print(scalar_product)\n",
        "print(dot_product)"
      ],
      "metadata": {
        "colab": {
          "base_uri": "https://localhost:8080/"
        },
        "id": "ttCj2oj5GfUD",
        "outputId": "23350a28-64df-4b22-b4f0-28239152c499"
      },
      "execution_count": 17,
      "outputs": [
        {
          "output_type": "stream",
          "name": "stdout",
          "text": [
            "[[ 8 10]\n",
            " [12 14]]\n",
            "[[-4 -4]\n",
            " [-4 -4]]\n",
            "[[12 21]\n",
            " [32 45]]\n",
            "[[ 4  6]\n",
            " [ 8 10]]\n",
            "[[36 41]\n",
            " [64 73]]\n"
          ]
        }
      ]
    }
  ]
}